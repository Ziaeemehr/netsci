{
 "cells": [
  {
   "cell_type": "markdown",
   "metadata": {},
   "source": [
    "#### [Chapter 3](https://github.com/Ziaeemehr/netsci/blob/main/examples/chap_04.ipynb)\n",
    "\n",
    "#### **THE SCALE-FREE PROPERTY**\n",
    "\n",
    "Code by : Abolfazl Ziaeemehr \n",
    "- https://github.com/Ziaeemehr\n",
    "\n",
    "<a href=\"https://colab.research.google.com/github/Ziaeemehr/netsci/blob/main/examples/chap_04.ipynb\" target=\"_parent\"><img src=\"https://colab.research.google.com/assets/colab-badge.svg\" alt=\"Open In Colab\"/></a>"
   ]
  },
  {
   "cell_type": "code",
   "execution_count": 1,
   "metadata": {},
   "outputs": [],
   "source": [
    "# uncomment and run this line to install the package on colab\n",
    "# !pip install \"git+https://github.com/Ziaeemehr/netsci.git\" -q"
   ]
  },
  {
   "cell_type": "code",
   "execution_count": 7,
   "metadata": {},
   "outputs": [],
   "source": [
    "import numpy as np\n",
    "import matplotlib.pyplot as plt\n",
    "from netsci.utils import generate_power_law_dist, generate_power_law_dist_bounded"
   ]
  },
  {
   "cell_type": "code",
   "execution_count": 25,
   "metadata": {},
   "outputs": [],
   "source": [
    "LABELSIZE = 13\n",
    "plt.rc('axes', labelsize=LABELSIZE)\n",
    "plt.rc('axes', titlesize=LABELSIZE)\n",
    "plt.rc('figure', titlesize=LABELSIZE)\n",
    "plt.rc('legend', fontsize=LABELSIZE)\n",
    "plt.rc('xtick', labelsize=LABELSIZE)\n",
    "plt.rc('ytick', labelsize=LABELSIZE)"
   ]
  },
  {
   "cell_type": "markdown",
   "metadata": {},
   "source": [
    "#### Generate the powerlaw distribution (bounded)\n",
    "- Alstott, J., Bullmore, E. and Plenz, D., 2014. powerlaw: a Python package for analysis of heavy-tailed distributions. PloS one, 9(1), p.e85777."
   ]
  },
  {
   "cell_type": "code",
   "execution_count": 6,
   "metadata": {},
   "outputs": [
    {
     "name": "stdout",
     "output_type": "stream",
     "text": [
      "\u001b[0;31mSignature:\u001b[0m \u001b[0mgenerate_power_law_dist\u001b[0m\u001b[0;34m(\u001b[0m\u001b[0mN\u001b[0m\u001b[0;34m:\u001b[0m \u001b[0mint\u001b[0m\u001b[0;34m,\u001b[0m \u001b[0ma\u001b[0m\u001b[0;34m:\u001b[0m \u001b[0mfloat\u001b[0m\u001b[0;34m,\u001b[0m \u001b[0mxmin\u001b[0m\u001b[0;34m:\u001b[0m \u001b[0mfloat\u001b[0m\u001b[0;34m)\u001b[0m\u001b[0;34m\u001b[0m\u001b[0;34m\u001b[0m\u001b[0m\n",
      "\u001b[0;31mDocstring:\u001b[0m\n",
      "generate power law random numbers p(k) ~ x^(-a) for a>1\n",
      "\n",
      "Parameters\n",
      "-----------\n",
      "N:\n",
      "    is the number of random numbers\n",
      "a:\n",
      "    is the exponent\n",
      "xmin:\n",
      "    is the minimum value of distribution\n",
      "\n",
      "Returns\n",
      "-----------\n",
      "value: np.array\n",
      "    powerlaw distribution\n",
      "\u001b[0;31mFile:\u001b[0m      ~/git/workshops/network_science/netsci/netsci/utils.py\n",
      "\u001b[0;31mType:\u001b[0m      function"
     ]
    }
   ],
   "source": [
    "generate_power_law_dist?"
   ]
  },
  {
   "cell_type": "code",
   "execution_count": 22,
   "metadata": {},
   "outputs": [
    {
     "name": "stdout",
     "output_type": "stream",
     "text": [
      "\u001b[0;31mSignature:\u001b[0m \u001b[0mgenerate_power_law_dist_bounded\u001b[0m\u001b[0;34m(\u001b[0m\u001b[0mN\u001b[0m\u001b[0;34m:\u001b[0m \u001b[0mint\u001b[0m\u001b[0;34m,\u001b[0m \u001b[0ma\u001b[0m\u001b[0;34m:\u001b[0m \u001b[0mfloat\u001b[0m\u001b[0;34m,\u001b[0m \u001b[0mxmin\u001b[0m\u001b[0;34m:\u001b[0m \u001b[0mfloat\u001b[0m\u001b[0;34m,\u001b[0m \u001b[0mxmax\u001b[0m\u001b[0;34m:\u001b[0m \u001b[0mfloat\u001b[0m\u001b[0;34m)\u001b[0m\u001b[0;34m\u001b[0m\u001b[0;34m\u001b[0m\u001b[0m\n",
      "\u001b[0;31mDocstring:\u001b[0m\n",
      "Generate a power law distribution of floats p(k) ~ x^(-a) for a>1\n",
      "which is bounded by xmin and xmax\n",
      "\n",
      "parameters :\n",
      "    N: int\n",
      "        number of samples in powerlaw distribution (pwd).\n",
      "    e: \n",
      "        exponent of the pwd.\n",
      "    xmin: \n",
      "        min value in pwd.\n",
      "    xmax: \n",
      "        max value in pwd.\n",
      "\u001b[0;31mFile:\u001b[0m      ~/git/workshops/network_science/netsci/netsci/utils.py\n",
      "\u001b[0;31mType:\u001b[0m      function"
     ]
    }
   ],
   "source": [
    "generate_power_law_dist_bounded?"
   ]
  },
  {
   "cell_type": "markdown",
   "metadata": {},
   "source": [
    "plotting the powerlaw distributions"
   ]
  },
  {
   "cell_type": "code",
   "execution_count": 41,
   "metadata": {},
   "outputs": [],
   "source": [
    "def plot_distribution(vrs, N, a, xmin, ax, labelsize=10):\n",
    "\n",
    "    # plotting the PDF estimated from variates\n",
    "    bin_min, bin_max = np.min(vrs), np.max(vrs)\n",
    "    bins = 10**(np.linspace(np.log10(bin_min), np.log10(bin_max), 100))\n",
    "    counts, edges = np.histogram(vrs, bins, density=True)\n",
    "    centers = (edges[1:] + edges[:-1])/2.\n",
    "\n",
    "    # plotting the expected PDF\n",
    "    xs = np.linspace(bin_min, bin_max, N)\n",
    "    expected_pdf = [(a-1) * xmin**(a-1) * x**(-a) for x in xs] # according to eq. 4.12 network science barabasi 2016\n",
    "    ax.loglog(xs, expected_pdf, color='red', ls='--', label=r\"$x^{-\\gamma}$,\"+ r\"${\\gamma}$=\"+f\"{-a:.2f}\")\n",
    "    ax.loglog(centers, counts, 'k.', label='data')\n",
    "    ax.legend(fontsize=labelsize)\n",
    "    ax.set_xlabel(\"values\")\n",
    "    ax.set_ylabel(\"PDF\")\n",
    "    "
   ]
  },
  {
   "cell_type": "code",
   "execution_count": 42,
   "metadata": {},
   "outputs": [
    {
     "name": "stdout",
     "output_type": "stream",
     "text": [
      "1.0009632650699485 25.026683950827046\n"
     ]
    },
    {
     "data": {
      "image/png": "[encoded data removed]",
      "text/plain": [
       "<Figure size 500x300 with 1 Axes>"
      ]
     },
     "metadata": {},
     "output_type": "display_data"
    }
   ],
   "source": [
    "np.random.seed(2)\n",
    "\n",
    "N = 1000\n",
    "a = 3.0\n",
    "xmin = 1\n",
    "xmax = 100\n",
    "\n",
    "fig, ax = plt.subplots(1, figsize=(5,3))\n",
    "x = generate_power_law_dist_bounded(N, -a, xmin, xmax)\n",
    "print (np.min(x), np.max(x))\n",
    "plot_distribution(x, N, a, xmin, ax)\n"
   ]
  },
  {
   "cell_type": "code",
   "execution_count": null,
   "metadata": {},
   "outputs": [],
   "source": []
  }
 ],
 "metadata": {
  "kernelspec": {
   "display_name": "netsci",
   "language": "python",
   "name": "python3"
  },
  "language_info": {
   "codemirror_mode": {
    "name": "ipython",
    "version": 3
   },
   "file_extension": ".py",
   "mimetype": "text/x-python",
   "name": "python",
   "nbconvert_exporter": "python",
   "pygments_lexer": "ipython3",
   "version": "3.11.9"
  }
 },
 "nbformat": 4,
 "nbformat_minor": 2
}
