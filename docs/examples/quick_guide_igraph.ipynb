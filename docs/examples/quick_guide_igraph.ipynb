{
 "cells": [
  {
   "cell_type": "markdown",
   "metadata": {},
   "source": [
    "# [igraph](https://github.com/Ziaeemehr/netsci/blob/main/docs/examples/quick_guide_igraph.ipynb)"
   ]
  },
  {
   "cell_type": "markdown",
   "metadata": {},
   "source": [
    "#### **Quick Guide for igraph**\n",
    "\n",
    "Code by : Abolfazl Ziaeemehr \n",
    "- https://github.com/Ziaeemehr\n",
    "\n",
    "<a href=\"https://colab.research.google.com/github/Ziaeemehr/netsci/blob/main/docs/examples/quick_guide_igraph.ipynb\" target=\"_parent\"><img src=\"https://colab.research.google.com/assets/colab-badge.svg\" alt=\"Open In Colab\"/></a>"
   ]
  },
  {
   "cell_type": "markdown",
   "metadata": {},
   "source": [
    "First, ensure that python-igraph is installed. You can install it using pip:"
   ]
  },
  {
   "cell_type": "code",
   "execution_count": 2,
   "metadata": {},
   "outputs": [
    {
     "name": "stdout",
     "output_type": "stream",
     "text": [
      "0.11.6\n"
     ]
    }
   ],
   "source": [
    "try:\n",
    "    import igraph\n",
    "    print(igraph.__version__)\n",
    "except ImportError:\n",
    "    print(\"igraph is not installed.\")\n",
    "    \n",
    "# If `igraph` is not installed, you can install it using the following command (uncomment the following line):\n",
    "# !pip install python-igraph"
   ]
  },
  {
   "cell_type": "markdown",
   "metadata": {},
   "source": [
    "#### Creating Graphs\n",
    "- Empty Graph\n",
    "\n",
    "To create an empty graph:"
   ]
  },
  {
   "cell_type": "code",
   "execution_count": 2,
   "metadata": {},
   "outputs": [],
   "source": [
    "import igraph as ig\n",
    "g = ig.Graph()"
   ]
  },
  {
   "cell_type": "markdown",
   "metadata": {},
   "source": [
    "#### Graph with Nodes and Edges\n",
    "To create a graph with 10 nodes and specific edges, also get summary of the graph with `print(g)`:"
   ]
  },
  {
   "cell_type": "code",
   "execution_count": 3,
   "metadata": {},
   "outputs": [
    {
     "name": "stdout",
     "output_type": "stream",
     "text": [
      "IGRAPH U--- 10 2 --\n",
      "+ edges:\n",
      "0--1 0--5\n"
     ]
    }
   ],
   "source": [
    "g = ig.Graph(n=10, edges=[[0, 1], [0, 5]])\n",
    "print(g)"
   ]
  },
  {
   "cell_type": "markdown",
   "metadata": {},
   "source": [
    "This will display the number of vertices and edges, and list the edges if the graph is small."
   ]
  },
  {
   "cell_type": "markdown",
   "metadata": {},
   "source": [
    "#### Assigning Attributes\n",
    "You can set and retrieve attributes for graphs, vertices, and edges."
   ]
  },
  {
   "cell_type": "code",
   "execution_count": 4,
   "metadata": {},
   "outputs": [],
   "source": [
    "import igraph as ig\n",
    "\n",
    "# Create a graph with 3 nodes\n",
    "g = ig.Graph(n=3)\n",
    "\n",
    "# Assign a 'color' attribute to all nodes\n",
    "g.vs[\"color\"] = [\"red\", \"green\", \"blue\"]\n",
    "\n",
    "# Assign a 'label' attribute to the first node\n",
    "g.vs[0][\"label\"] = \"Node 1\"\n",
    "\n",
    "# Assign a 'label' attribute to the second node\n",
    "g.vs[1][\"label\"] = \"Node 2\""
   ]
  },
  {
   "cell_type": "markdown",
   "metadata": {},
   "source": []
  },
  {
   "cell_type": "code",
   "execution_count": 5,
   "metadata": {},
   "outputs": [],
   "source": [
    "# Create a graph with edges\n",
    "g.add_edges([(0, 1), (1, 2)])\n",
    "\n",
    "# Assign a 'weight' attribute to all edges\n",
    "g.es[\"weight\"] = [1.5, 2.5]"
   ]
  },
  {
   "cell_type": "markdown",
   "metadata": {},
   "source": [
    "#### Retrieving Attributes"
   ]
  },
  {
   "cell_type": "code",
   "execution_count": 6,
   "metadata": {},
   "outputs": [
    {
     "name": "stdout",
     "output_type": "stream",
     "text": [
      "{'color': 'red', 'label': 'Node 1'}\n"
     ]
    }
   ],
   "source": [
    "# Get all attributes for the first node\n",
    "node_attributes = g.vs[0].attributes()\n",
    "print(node_attributes)"
   ]
  },
  {
   "cell_type": "code",
   "execution_count": 7,
   "metadata": {},
   "outputs": [
    {
     "name": "stdout",
     "output_type": "stream",
     "text": [
      "['red', 'green', 'blue']\n"
     ]
    }
   ],
   "source": [
    "# Get the 'color' attribute for all nodes\n",
    "colors = g.vs[\"color\"]\n",
    "print(colors)"
   ]
  },
  {
   "cell_type": "code",
   "execution_count": 8,
   "metadata": {},
   "outputs": [
    {
     "name": "stdout",
     "output_type": "stream",
     "text": [
      "{'weight': 1.5}\n"
     ]
    }
   ],
   "source": [
    "# Get all attributes for the first edge\n",
    "edge_attributes = g.es[0].attributes()\n",
    "print(edge_attributes)"
   ]
  },
  {
   "cell_type": "code",
   "execution_count": 9,
   "metadata": {},
   "outputs": [
    {
     "name": "stdout",
     "output_type": "stream",
     "text": [
      "[1.5, 2.5]\n"
     ]
    }
   ],
   "source": [
    "# Get the 'weight' attribute for all edges\n",
    "weights = g.es[\"weight\"]\n",
    "print(weights)"
   ]
  },
  {
   "cell_type": "markdown",
   "metadata": {},
   "source": [
    "#### Load graph from adjacency list"
   ]
  },
  {
   "cell_type": "code",
   "execution_count": 10,
   "metadata": {},
   "outputs": [
    {
     "name": "stdout",
     "output_type": "stream",
     "text": [
      "File /Users/tng/git/workshops/netsci/netsci/datasets/networks.zip already exists.\n",
      "path='/Users/tng/git/workshops/netsci/netsci/datasets/'\n",
      "Number of vertices:                           23133\n",
      "Number of edges:                              93439\n",
      "Is directed:                                  False\n",
      "Density:                                   0.000349\n",
      "Average clustering coefficient:            0.264317\n"
     ]
    }
   ],
   "source": [
    "import os\n",
    "from netsci.utils import list_sample_graphs\n",
    "from netsci.utils import get_sample_dataset_path\n",
    "from netsci.utils import download_sample_dataset\n",
    "\n",
    "def load_edges(filepath):\n",
    "    edges = []\n",
    "    with open(filepath, 'r') as file:\n",
    "        for line in file:\n",
    "            if line.startswith('#'):\n",
    "                continue  # Skip comments\n",
    "            A, B = map(int, line.split())\n",
    "            edges.append((A, B))\n",
    "    return edges\n",
    "\n",
    "def load_graphi(filepath:str, directed:bool=False):\n",
    "    edges = load_edges(filepath)\n",
    "    G = ig.Graph(edges=edges, directed=directed)\n",
    "\n",
    "    return G\n",
    "\n",
    "path = get_sample_dataset_path()\n",
    "\n",
    "# make sure you have downloaded the sample dataset\n",
    "download_sample_dataset()\n",
    "\n",
    "file_name = os.path.join(path, \"collaboration.edgelist.txt\")\n",
    "print(f\"{path=}\")\n",
    "\n",
    "G = load_graphi(file_name, directed=False)\n",
    "\n",
    "print(f\"{'Number of vertices:':<30s} {G.vcount():20d}\")\n",
    "print(f\"{'Number of edges:':<30s} {G.ecount():20d}\")\n",
    "print(f\"{'Is directed:':<30s} {str(G.is_directed()):>20s}\")\n",
    "print(f\"{'Density:':<30s} {G.density():20.6f}\")\n",
    "print(f\"{'Average clustering coefficient:':30s}{G.transitivity_undirected():20.6f}\")\n"
   ]
  },
  {
   "cell_type": "markdown",
   "metadata": {},
   "source": [
    "#### Visualizing Graphs"
   ]
  },
  {
   "cell_type": "code",
   "execution_count": 11,
   "metadata": {},
   "outputs": [],
   "source": [
    "# need to install matplotlib and pycairo\n",
    "# !pip install pycairo -q "
   ]
  },
  {
   "cell_type": "code",
   "execution_count": 12,
   "metadata": {},
   "outputs": [
    {
     "data": {
      "image/png": "[encoded data removed]",
      "text/plain": [
       "<Figure size 640x480 with 1 Axes>"
      ]
     },
     "metadata": {},
     "output_type": "display_data"
    }
   ],
   "source": [
    "import matplotlib.pyplot as plt\n",
    "\n",
    "fig, ax = plt.subplots()\n",
    "\n",
    "# Compute a layout\n",
    "layout = g.layout(\"kk\")  # Kamada-Kawai layout\n",
    "\n",
    "# Define visual style\n",
    "visual_style = {}\n",
    "visual_style[\"vertex_size\"] = 20\n",
    "visual_style[\"vertex_label\"] = range(g.vcount())\n",
    "visual_style[\"layout\"] = layout\n",
    "visual_style[\"bbox\"] = (300, 300)  # Bounding box size\n",
    "visual_style[\"margin\"] = 20\n",
    "\n",
    "# Plot the graph\n",
    "ig.plot(g, **visual_style)\n",
    "\n",
    "# Plot the graph in the axes\n",
    "ig.plot(g, target=ax, **visual_style)\n",
    "plt.show()"
   ]
  },
  {
   "cell_type": "code",
   "execution_count": null,
   "metadata": {},
   "outputs": [],
   "source": []
  }
 ],
 "metadata": {
  "language_info": {
   "name": "python"
  }
 },
 "nbformat": 4,
 "nbformat_minor": 2
}
